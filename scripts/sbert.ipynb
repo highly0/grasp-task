{
 "cells": [
  {
   "cell_type": "code",
   "execution_count": 1,
   "metadata": {},
   "outputs": [
    {
     "data": {
      "text/plain": [
       "device(type='cuda')"
      ]
     },
     "execution_count": 1,
     "metadata": {},
     "output_type": "execute_result"
    }
   ],
   "source": [
    "import torch\n",
    "\n",
    "device = torch.device(\"cuda\" if torch.cuda.is_available() else \"cpu\")\n",
    "device"
   ]
  },
  {
   "cell_type": "markdown",
   "metadata": {},
   "source": [
    "### Getting our Data"
   ]
  },
  {
   "cell_type": "code",
   "execution_count": 2,
   "metadata": {},
   "outputs": [],
   "source": [
    "train_path = '/workspace/grasp-data-hometask-semantic-similarity-master/data/train.data'\n",
    "val_path = '/workspace/grasp-data-hometask-semantic-similarity-master/data/dev.data'"
   ]
  },
  {
   "cell_type": "code",
   "execution_count": 3,
   "metadata": {},
   "outputs": [
    {
     "data": {
      "text/html": [
       "<div>\n",
       "<style scoped>\n",
       "    .dataframe tbody tr th:only-of-type {\n",
       "        vertical-align: middle;\n",
       "    }\n",
       "\n",
       "    .dataframe tbody tr th {\n",
       "        vertical-align: top;\n",
       "    }\n",
       "\n",
       "    .dataframe thead th {\n",
       "        text-align: right;\n",
       "    }\n",
       "</style>\n",
       "<table border=\"1\" class=\"dataframe\">\n",
       "  <thead>\n",
       "    <tr style=\"text-align: right;\">\n",
       "      <th></th>\n",
       "      <th>Topic_Id</th>\n",
       "      <th>Topic_Name</th>\n",
       "      <th>Sent_1</th>\n",
       "      <th>Sent_2</th>\n",
       "      <th>Label</th>\n",
       "      <th>Sent_1_tag</th>\n",
       "      <th>Sent_2_tag</th>\n",
       "    </tr>\n",
       "  </thead>\n",
       "  <tbody>\n",
       "    <tr>\n",
       "      <th>0</th>\n",
       "      <td>4</td>\n",
       "      <td>1st QB</td>\n",
       "      <td>EJ Manuel the 1st QB to go in this draft</td>\n",
       "      <td>But my bro from the 757 EJ Manuel is the 1st Q...</td>\n",
       "      <td>(5, 0)</td>\n",
       "      <td>EJ/B-person/NNP/B-NP/O Manuel/I-person/NNP/B-V...</td>\n",
       "      <td>But/O/CC/O/O my/O/PRP$/B-NP/O bro/O/NN/I-NP/O ...</td>\n",
       "    </tr>\n",
       "    <tr>\n",
       "      <th>1</th>\n",
       "      <td>4</td>\n",
       "      <td>1st QB</td>\n",
       "      <td>EJ Manuel the 1st QB to go in this draft</td>\n",
       "      <td>Can believe EJ Manuel went as the 1st QB in th...</td>\n",
       "      <td>(5, 0)</td>\n",
       "      <td>EJ/B-person/NNP/B-NP/O Manuel/I-person/NNP/B-V...</td>\n",
       "      <td>Can/O/MD/B-VP/O believe/O/VB/I-VP/B-EVENT EJ/B...</td>\n",
       "    </tr>\n",
       "    <tr>\n",
       "      <th>2</th>\n",
       "      <td>4</td>\n",
       "      <td>1st QB</td>\n",
       "      <td>EJ Manuel the 1st QB to go in this draft</td>\n",
       "      <td>EJ MANUEL IS THE 1ST QB what</td>\n",
       "      <td>(3, 2)</td>\n",
       "      <td>EJ/B-person/NNP/B-NP/O Manuel/I-person/NNP/B-V...</td>\n",
       "      <td>EJ/B-person/NNP/B-NP/O MANUEL/I-person/NNP/I-N...</td>\n",
       "    </tr>\n",
       "  </tbody>\n",
       "</table>\n",
       "</div>"
      ],
      "text/plain": [
       "   Topic_Id Topic_Name                                    Sent_1  \\\n",
       "0         4     1st QB  EJ Manuel the 1st QB to go in this draft   \n",
       "1         4     1st QB  EJ Manuel the 1st QB to go in this draft   \n",
       "2         4     1st QB  EJ Manuel the 1st QB to go in this draft   \n",
       "\n",
       "                                              Sent_2   Label  \\\n",
       "0  But my bro from the 757 EJ Manuel is the 1st Q...  (5, 0)   \n",
       "1  Can believe EJ Manuel went as the 1st QB in th...  (5, 0)   \n",
       "2                       EJ MANUEL IS THE 1ST QB what  (3, 2)   \n",
       "\n",
       "                                          Sent_1_tag  \\\n",
       "0  EJ/B-person/NNP/B-NP/O Manuel/I-person/NNP/B-V...   \n",
       "1  EJ/B-person/NNP/B-NP/O Manuel/I-person/NNP/B-V...   \n",
       "2  EJ/B-person/NNP/B-NP/O Manuel/I-person/NNP/B-V...   \n",
       "\n",
       "                                          Sent_2_tag  \n",
       "0  But/O/CC/O/O my/O/PRP$/B-NP/O bro/O/NN/I-NP/O ...  \n",
       "1  Can/O/MD/B-VP/O believe/O/VB/I-VP/B-EVENT EJ/B...  \n",
       "2  EJ/B-person/NNP/B-NP/O MANUEL/I-person/NNP/I-N...  "
      ]
     },
     "execution_count": 3,
     "metadata": {},
     "output_type": "execute_result"
    }
   ],
   "source": [
    "import pandas as pd\n",
    "col_names = ['Topic_Id', 'Topic_Name', 'Sent_1', 'Sent_2', 'Label', 'Sent_1_tag', 'Sent_2_tag']\n",
    "train_df = pd.read_csv(train_path, sep='\\t', lineterminator='\\n', names=col_names, header=None)\n",
    "train_df.head(3)"
   ]
  },
  {
   "cell_type": "code",
   "execution_count": 4,
   "metadata": {},
   "outputs": [
    {
     "data": {
      "text/html": [
       "<div>\n",
       "<style scoped>\n",
       "    .dataframe tbody tr th:only-of-type {\n",
       "        vertical-align: middle;\n",
       "    }\n",
       "\n",
       "    .dataframe tbody tr th {\n",
       "        vertical-align: top;\n",
       "    }\n",
       "\n",
       "    .dataframe thead th {\n",
       "        text-align: right;\n",
       "    }\n",
       "</style>\n",
       "<table border=\"1\" class=\"dataframe\">\n",
       "  <thead>\n",
       "    <tr style=\"text-align: right;\">\n",
       "      <th></th>\n",
       "      <th>Topic_Id</th>\n",
       "      <th>Topic_Name</th>\n",
       "      <th>Sent_1</th>\n",
       "      <th>Sent_2</th>\n",
       "      <th>Label</th>\n",
       "      <th>Sent_1_tag</th>\n",
       "      <th>Sent_2_tag</th>\n",
       "    </tr>\n",
       "  </thead>\n",
       "  <tbody>\n",
       "    <tr>\n",
       "      <th>0</th>\n",
       "      <td>17</td>\n",
       "      <td>A Walk To Remember</td>\n",
       "      <td>A Walk to Remember is the definition of true love</td>\n",
       "      <td>A Walk to Remember is on and Im in town and Im...</td>\n",
       "      <td>(1, 4)</td>\n",
       "      <td>A/O/DT/B-NP/O Walk/O/NN/I-NP/O to/O/TO/B-VP/O ...</td>\n",
       "      <td>A/O/DT/B-NP/O Walk/O/NN/I-NP/O to/O/TO/B-VP/O ...</td>\n",
       "    </tr>\n",
       "    <tr>\n",
       "      <th>1</th>\n",
       "      <td>17</td>\n",
       "      <td>A Walk To Remember</td>\n",
       "      <td>A Walk to Remember is the definition of true love</td>\n",
       "      <td>A Walk to Remember is the cutest thing</td>\n",
       "      <td>(3, 2)</td>\n",
       "      <td>A/O/DT/B-NP/O Walk/O/NN/I-NP/O to/O/TO/B-VP/O ...</td>\n",
       "      <td>A/O/DT/B-NP/O Walk/O/NN/I-NP/O to/O/TO/B-VP/O ...</td>\n",
       "    </tr>\n",
       "    <tr>\n",
       "      <th>2</th>\n",
       "      <td>17</td>\n",
       "      <td>A Walk To Remember</td>\n",
       "      <td>A Walk to Remember is the definition of true love</td>\n",
       "      <td>A walk to remember is on ABC family youre welcome</td>\n",
       "      <td>(1, 4)</td>\n",
       "      <td>A/O/DT/B-NP/O Walk/O/NN/I-NP/O to/O/TO/B-VP/O ...</td>\n",
       "      <td>A/O/DT/B-NP/O walk/O/NN/I-NP/O to/O/TO/B-VP/O ...</td>\n",
       "    </tr>\n",
       "  </tbody>\n",
       "</table>\n",
       "</div>"
      ],
      "text/plain": [
       "   Topic_Id          Topic_Name  \\\n",
       "0        17  A Walk To Remember   \n",
       "1        17  A Walk To Remember   \n",
       "2        17  A Walk To Remember   \n",
       "\n",
       "                                              Sent_1  \\\n",
       "0  A Walk to Remember is the definition of true love   \n",
       "1  A Walk to Remember is the definition of true love   \n",
       "2  A Walk to Remember is the definition of true love   \n",
       "\n",
       "                                              Sent_2   Label  \\\n",
       "0  A Walk to Remember is on and Im in town and Im...  (1, 4)   \n",
       "1             A Walk to Remember is the cutest thing  (3, 2)   \n",
       "2  A walk to remember is on ABC family youre welcome  (1, 4)   \n",
       "\n",
       "                                          Sent_1_tag  \\\n",
       "0  A/O/DT/B-NP/O Walk/O/NN/I-NP/O to/O/TO/B-VP/O ...   \n",
       "1  A/O/DT/B-NP/O Walk/O/NN/I-NP/O to/O/TO/B-VP/O ...   \n",
       "2  A/O/DT/B-NP/O Walk/O/NN/I-NP/O to/O/TO/B-VP/O ...   \n",
       "\n",
       "                                          Sent_2_tag  \n",
       "0  A/O/DT/B-NP/O Walk/O/NN/I-NP/O to/O/TO/B-VP/O ...  \n",
       "1  A/O/DT/B-NP/O Walk/O/NN/I-NP/O to/O/TO/B-VP/O ...  \n",
       "2  A/O/DT/B-NP/O walk/O/NN/I-NP/O to/O/TO/B-VP/O ...  "
      ]
     },
     "execution_count": 4,
     "metadata": {},
     "output_type": "execute_result"
    }
   ],
   "source": [
    "val_df = pd.read_csv(val_path, sep='\\t', lineterminator='\\n', names=col_names, header=None)\n",
    "val_df.head(3)"
   ]
  },
  {
   "cell_type": "markdown",
   "metadata": {},
   "source": [
    "##### converting all label to binary"
   ]
  },
  {
   "cell_type": "code",
   "execution_count": 5,
   "metadata": {},
   "outputs": [],
   "source": [
    "def preproc(df):\n",
    "    '''convert our label to 0-5'''\n",
    "    df.loc[df['Label']== '(0, 5)', 'Label'] = 0\n",
    "    df.loc[df['Label']== '(1, 4)', 'Label'] = 1\n",
    "    df.loc[df['Label']== '(2, 3)', 'Label'] = 2\n",
    "    df.loc[df['Label']== '(3, 2)', 'Label'] = 3\n",
    "    df.loc[df['Label']== '(4, 1)', 'Label'] = 4\n",
    "    df.loc[df['Label']== '(5, 0)', 'Label'] = 5\n",
    "    return df\n",
    "\n",
    "train_df = preproc(train_df)\n",
    "val_df = preproc(val_df)"
   ]
  },
  {
   "cell_type": "code",
   "execution_count": 6,
   "metadata": {},
   "outputs": [
    {
     "data": {
      "text/html": [
       "<div>\n",
       "<style scoped>\n",
       "    .dataframe tbody tr th:only-of-type {\n",
       "        vertical-align: middle;\n",
       "    }\n",
       "\n",
       "    .dataframe tbody tr th {\n",
       "        vertical-align: top;\n",
       "    }\n",
       "\n",
       "    .dataframe thead th {\n",
       "        text-align: right;\n",
       "    }\n",
       "</style>\n",
       "<table border=\"1\" class=\"dataframe\">\n",
       "  <thead>\n",
       "    <tr style=\"text-align: right;\">\n",
       "      <th></th>\n",
       "      <th>Topic_Id</th>\n",
       "      <th>Topic_Name</th>\n",
       "      <th>Sent_1</th>\n",
       "      <th>Sent_2</th>\n",
       "      <th>Label</th>\n",
       "      <th>Sent_1_tag</th>\n",
       "      <th>Sent_2_tag</th>\n",
       "    </tr>\n",
       "  </thead>\n",
       "  <tbody>\n",
       "    <tr>\n",
       "      <th>0</th>\n",
       "      <td>4</td>\n",
       "      <td>1st QB</td>\n",
       "      <td>EJ Manuel the 1st QB to go in this draft</td>\n",
       "      <td>But my bro from the 757 EJ Manuel is the 1st Q...</td>\n",
       "      <td>5</td>\n",
       "      <td>EJ/B-person/NNP/B-NP/O Manuel/I-person/NNP/B-V...</td>\n",
       "      <td>But/O/CC/O/O my/O/PRP$/B-NP/O bro/O/NN/I-NP/O ...</td>\n",
       "    </tr>\n",
       "    <tr>\n",
       "      <th>1</th>\n",
       "      <td>4</td>\n",
       "      <td>1st QB</td>\n",
       "      <td>EJ Manuel the 1st QB to go in this draft</td>\n",
       "      <td>Can believe EJ Manuel went as the 1st QB in th...</td>\n",
       "      <td>5</td>\n",
       "      <td>EJ/B-person/NNP/B-NP/O Manuel/I-person/NNP/B-V...</td>\n",
       "      <td>Can/O/MD/B-VP/O believe/O/VB/I-VP/B-EVENT EJ/B...</td>\n",
       "    </tr>\n",
       "    <tr>\n",
       "      <th>2</th>\n",
       "      <td>4</td>\n",
       "      <td>1st QB</td>\n",
       "      <td>EJ Manuel the 1st QB to go in this draft</td>\n",
       "      <td>EJ MANUEL IS THE 1ST QB what</td>\n",
       "      <td>3</td>\n",
       "      <td>EJ/B-person/NNP/B-NP/O Manuel/I-person/NNP/B-V...</td>\n",
       "      <td>EJ/B-person/NNP/B-NP/O MANUEL/I-person/NNP/I-N...</td>\n",
       "    </tr>\n",
       "    <tr>\n",
       "      <th>3</th>\n",
       "      <td>4</td>\n",
       "      <td>1st QB</td>\n",
       "      <td>EJ Manuel the 1st QB to go in this draft</td>\n",
       "      <td>EJ da 1st QB off da board</td>\n",
       "      <td>2</td>\n",
       "      <td>EJ/B-person/NNP/B-NP/O Manuel/I-person/NNP/B-V...</td>\n",
       "      <td>EJ/O/NNP/B-NP/O da/O/DT/I-NP/O 1st/O/CD/I-NP/O...</td>\n",
       "    </tr>\n",
       "    <tr>\n",
       "      <th>4</th>\n",
       "      <td>4</td>\n",
       "      <td>1st QB</td>\n",
       "      <td>EJ Manuel the 1st QB to go in this draft</td>\n",
       "      <td>Manuel is the 1st QB to get drafted</td>\n",
       "      <td>4</td>\n",
       "      <td>EJ/B-person/NNP/B-NP/O Manuel/I-person/NNP/B-V...</td>\n",
       "      <td>Manuel/B-person/NNP/B-NP/O is/O/VBZ/B-VP/O the...</td>\n",
       "    </tr>\n",
       "    <tr>\n",
       "      <th>...</th>\n",
       "      <td>...</td>\n",
       "      <td>...</td>\n",
       "      <td>...</td>\n",
       "      <td>...</td>\n",
       "      <td>...</td>\n",
       "      <td>...</td>\n",
       "      <td>...</td>\n",
       "    </tr>\n",
       "    <tr>\n",
       "      <th>13058</th>\n",
       "      <td>1891</td>\n",
       "      <td>iPhone 5</td>\n",
       "      <td>It fits the larger iPhone 5</td>\n",
       "      <td>My brother thirsty for this iPhone 5 so ill gu...</td>\n",
       "      <td>0</td>\n",
       "      <td>It/O/PRP/B-NP/O fits/O/VBZ/B-VP/O the/O/DT/B-N...</td>\n",
       "      <td>My/O/PRP$/B-NP/O brother/O/NN/I-NP/O thirsty/O...</td>\n",
       "    </tr>\n",
       "    <tr>\n",
       "      <th>13059</th>\n",
       "      <td>1891</td>\n",
       "      <td>iPhone 5</td>\n",
       "      <td>It fits the larger iPhone 5</td>\n",
       "      <td>Should I get the iPhone 5 or an Android</td>\n",
       "      <td>0</td>\n",
       "      <td>It/O/PRP/B-NP/O fits/O/VBZ/B-VP/O the/O/DT/B-N...</td>\n",
       "      <td>Should/O/UH/O/O I/O/PRP/B-NP/O get/O/VBP/B-VP/...</td>\n",
       "    </tr>\n",
       "    <tr>\n",
       "      <th>13060</th>\n",
       "      <td>1891</td>\n",
       "      <td>iPhone 5</td>\n",
       "      <td>It fits the larger iPhone 5</td>\n",
       "      <td>Somebody bring me an iPhone 5 charger to my work</td>\n",
       "      <td>0</td>\n",
       "      <td>It/O/PRP/B-NP/O fits/O/VBZ/B-VP/O the/O/DT/B-N...</td>\n",
       "      <td>Somebody/O/NN/B-NP/O bring/O/VB/B-VP/B-EVENT m...</td>\n",
       "    </tr>\n",
       "    <tr>\n",
       "      <th>13061</th>\n",
       "      <td>1891</td>\n",
       "      <td>iPhone 5</td>\n",
       "      <td>It fits the larger iPhone 5</td>\n",
       "      <td>Unlocked iPhone 5 300 hit me</td>\n",
       "      <td>0</td>\n",
       "      <td>It/O/PRP/B-NP/O fits/O/VBZ/B-VP/O the/O/DT/B-N...</td>\n",
       "      <td>Unlocked/O/NNP/B-NP/O iPhone/O/NNP/I-NP/O 5/O/...</td>\n",
       "    </tr>\n",
       "    <tr>\n",
       "      <th>13062</th>\n",
       "      <td>1891</td>\n",
       "      <td>iPhone 5</td>\n",
       "      <td>It fits the larger iPhone 5</td>\n",
       "      <td>if you have an iPhone 5 guess what WE FINALLY ...</td>\n",
       "      <td>0</td>\n",
       "      <td>It/O/PRP/B-NP/O fits/O/VBZ/B-VP/O the/O/DT/B-N...</td>\n",
       "      <td>if/O/IN/B-SBAR/O you/O/PRP/B-NP/O have/O/VBP/B...</td>\n",
       "    </tr>\n",
       "  </tbody>\n",
       "</table>\n",
       "<p>13063 rows × 7 columns</p>\n",
       "</div>"
      ],
      "text/plain": [
       "       Topic_Id Topic_Name                                    Sent_1  \\\n",
       "0             4     1st QB  EJ Manuel the 1st QB to go in this draft   \n",
       "1             4     1st QB  EJ Manuel the 1st QB to go in this draft   \n",
       "2             4     1st QB  EJ Manuel the 1st QB to go in this draft   \n",
       "3             4     1st QB  EJ Manuel the 1st QB to go in this draft   \n",
       "4             4     1st QB  EJ Manuel the 1st QB to go in this draft   \n",
       "...         ...        ...                                       ...   \n",
       "13058      1891   iPhone 5               It fits the larger iPhone 5   \n",
       "13059      1891   iPhone 5               It fits the larger iPhone 5   \n",
       "13060      1891   iPhone 5               It fits the larger iPhone 5   \n",
       "13061      1891   iPhone 5               It fits the larger iPhone 5   \n",
       "13062      1891   iPhone 5               It fits the larger iPhone 5   \n",
       "\n",
       "                                                  Sent_2 Label  \\\n",
       "0      But my bro from the 757 EJ Manuel is the 1st Q...     5   \n",
       "1      Can believe EJ Manuel went as the 1st QB in th...     5   \n",
       "2                           EJ MANUEL IS THE 1ST QB what     3   \n",
       "3                              EJ da 1st QB off da board     2   \n",
       "4                    Manuel is the 1st QB to get drafted     4   \n",
       "...                                                  ...   ...   \n",
       "13058  My brother thirsty for this iPhone 5 so ill gu...     0   \n",
       "13059            Should I get the iPhone 5 or an Android     0   \n",
       "13060   Somebody bring me an iPhone 5 charger to my work     0   \n",
       "13061                       Unlocked iPhone 5 300 hit me     0   \n",
       "13062  if you have an iPhone 5 guess what WE FINALLY ...     0   \n",
       "\n",
       "                                              Sent_1_tag  \\\n",
       "0      EJ/B-person/NNP/B-NP/O Manuel/I-person/NNP/B-V...   \n",
       "1      EJ/B-person/NNP/B-NP/O Manuel/I-person/NNP/B-V...   \n",
       "2      EJ/B-person/NNP/B-NP/O Manuel/I-person/NNP/B-V...   \n",
       "3      EJ/B-person/NNP/B-NP/O Manuel/I-person/NNP/B-V...   \n",
       "4      EJ/B-person/NNP/B-NP/O Manuel/I-person/NNP/B-V...   \n",
       "...                                                  ...   \n",
       "13058  It/O/PRP/B-NP/O fits/O/VBZ/B-VP/O the/O/DT/B-N...   \n",
       "13059  It/O/PRP/B-NP/O fits/O/VBZ/B-VP/O the/O/DT/B-N...   \n",
       "13060  It/O/PRP/B-NP/O fits/O/VBZ/B-VP/O the/O/DT/B-N...   \n",
       "13061  It/O/PRP/B-NP/O fits/O/VBZ/B-VP/O the/O/DT/B-N...   \n",
       "13062  It/O/PRP/B-NP/O fits/O/VBZ/B-VP/O the/O/DT/B-N...   \n",
       "\n",
       "                                              Sent_2_tag  \n",
       "0      But/O/CC/O/O my/O/PRP$/B-NP/O bro/O/NN/I-NP/O ...  \n",
       "1      Can/O/MD/B-VP/O believe/O/VB/I-VP/B-EVENT EJ/B...  \n",
       "2      EJ/B-person/NNP/B-NP/O MANUEL/I-person/NNP/I-N...  \n",
       "3      EJ/O/NNP/B-NP/O da/O/DT/I-NP/O 1st/O/CD/I-NP/O...  \n",
       "4      Manuel/B-person/NNP/B-NP/O is/O/VBZ/B-VP/O the...  \n",
       "...                                                  ...  \n",
       "13058  My/O/PRP$/B-NP/O brother/O/NN/I-NP/O thirsty/O...  \n",
       "13059  Should/O/UH/O/O I/O/PRP/B-NP/O get/O/VBP/B-VP/...  \n",
       "13060  Somebody/O/NN/B-NP/O bring/O/VB/B-VP/B-EVENT m...  \n",
       "13061  Unlocked/O/NNP/B-NP/O iPhone/O/NNP/I-NP/O 5/O/...  \n",
       "13062  if/O/IN/B-SBAR/O you/O/PRP/B-NP/O have/O/VBP/B...  \n",
       "\n",
       "[13063 rows x 7 columns]"
      ]
     },
     "execution_count": 6,
     "metadata": {},
     "output_type": "execute_result"
    }
   ],
   "source": [
    "train_df"
   ]
  },
  {
   "cell_type": "markdown",
   "metadata": {},
   "source": [
    "#### Preparing Data"
   ]
  },
  {
   "cell_type": "code",
   "execution_count": 7,
   "metadata": {},
   "outputs": [
    {
     "name": "stderr",
     "output_type": "stream",
     "text": [
      "2023-10-16 12:01:31.524909: I tensorflow/core/platform/cpu_feature_guard.cc:193] This TensorFlow binary is optimized with oneAPI Deep Neural Network Library (oneDNN) to use the following CPU instructions in performance-critical operations:  AVX2 FMA\n",
      "To enable them in other operations, rebuild TensorFlow with the appropriate compiler flags.\n",
      "2023-10-16 12:01:31.696090: E tensorflow/stream_executor/cuda/cuda_blas.cc:2981] Unable to register cuBLAS factory: Attempting to register factory for plugin cuBLAS when one has already been registered\n",
      "2023-10-16 12:01:32.297256: W tensorflow/stream_executor/platform/default/dso_loader.cc:64] Could not load dynamic library 'libnvinfer.so.7'; dlerror: libnvinfer.so.7: cannot open shared object file: No such file or directory; LD_LIBRARY_PATH: /usr/local/nvidia/lib:/usr/local/nvidia/lib64\n",
      "2023-10-16 12:01:32.297344: W tensorflow/stream_executor/platform/default/dso_loader.cc:64] Could not load dynamic library 'libnvinfer_plugin.so.7'; dlerror: libnvinfer_plugin.so.7: cannot open shared object file: No such file or directory; LD_LIBRARY_PATH: /usr/local/nvidia/lib:/usr/local/nvidia/lib64\n",
      "2023-10-16 12:01:32.297351: W tensorflow/compiler/tf2tensorrt/utils/py_utils.cc:38] TF-TRT Warning: Cannot dlopen some TensorRT libraries. If you would like to use Nvidia GPU with TensorRT, please make sure the missing libraries mentioned above are installed properly.\n"
     ]
    }
   ],
   "source": [
    "from sentence_transformers.evaluation import EmbeddingSimilarityEvaluator\n",
    "from sentence_transformers import SentenceTransformer, LoggingHandler, losses, util, InputExample, models"
   ]
  },
  {
   "cell_type": "code",
   "execution_count": 9,
   "metadata": {},
   "outputs": [],
   "source": [
    "def prepare_samples(df): \n",
    "    res = []\n",
    "    for _, row in df.iterrows():\n",
    "        score = float(row['Label']) / 5.0  # Normalize score to range 0 ... 1\n",
    "        inp_example = InputExample(texts=[row['Sent_1'], row['Sent_2']], label=score)\n",
    "        res.append(inp_example)\n",
    "    return res"
   ]
  },
  {
   "cell_type": "code",
   "execution_count": 10,
   "metadata": {},
   "outputs": [],
   "source": [
    "train_samples = prepare_samples(train_df)\n",
    "val_samples = prepare_samples(val_df)"
   ]
  },
  {
   "cell_type": "code",
   "execution_count": 11,
   "metadata": {},
   "outputs": [],
   "source": [
    "model_name = 'sentence-transformers/all-MiniLM-L6-v2'\n",
    "model = SentenceTransformer(model_name)"
   ]
  },
  {
   "cell_type": "code",
   "execution_count": 12,
   "metadata": {},
   "outputs": [],
   "source": [
    "train_loss = losses.CosineSimilarityLoss(model=model)\n",
    "\n",
    "train_dataloader = torch.utils.data.DataLoader(train_samples, shuffle=True, batch_size=16)\n",
    "evaluator = EmbeddingSimilarityEvaluator.from_input_examples(val_samples)"
   ]
  },
  {
   "cell_type": "markdown",
   "metadata": {},
   "source": [
    "####  Training the network"
   ]
  },
  {
   "cell_type": "code",
   "execution_count": 16,
   "metadata": {},
   "outputs": [],
   "source": [
    "import math\n",
    "\n",
    "num_epochs = 10\n",
    "# Configure the training. We skip evaluation in this example\n",
    "warmup_steps = math.ceil(len(train_dataloader) * num_epochs * 0.1) #10% of train data for warm-up\n"
   ]
  },
  {
   "cell_type": "code",
   "execution_count": 17,
   "metadata": {},
   "outputs": [
    {
     "data": {
      "application/vnd.jupyter.widget-view+json": {
       "model_id": "ead6810a0b684b968e2ff61f85b403f2",
       "version_major": 2,
       "version_minor": 0
      },
      "text/plain": [
       "Epoch:   0%|          | 0/5 [00:00<?, ?it/s]"
      ]
     },
     "metadata": {},
     "output_type": "display_data"
    },
    {
     "data": {
      "application/vnd.jupyter.widget-view+json": {
       "model_id": "9a60065d8c6949d8b1d3d2ada6bb4e16",
       "version_major": 2,
       "version_minor": 0
      },
      "text/plain": [
       "Iteration:   0%|          | 0/1633 [00:00<?, ?it/s]"
      ]
     },
     "metadata": {},
     "output_type": "display_data"
    },
    {
     "data": {
      "application/vnd.jupyter.widget-view+json": {
       "model_id": "45c503b5635e40ccb59ed971c94f1984",
       "version_major": 2,
       "version_minor": 0
      },
      "text/plain": [
       "Iteration:   0%|          | 0/1633 [00:00<?, ?it/s]"
      ]
     },
     "metadata": {},
     "output_type": "display_data"
    },
    {
     "data": {
      "application/vnd.jupyter.widget-view+json": {
       "model_id": "fd275879c4c24f34acbe7abc23f4adbb",
       "version_major": 2,
       "version_minor": 0
      },
      "text/plain": [
       "Iteration:   0%|          | 0/1633 [00:00<?, ?it/s]"
      ]
     },
     "metadata": {},
     "output_type": "display_data"
    },
    {
     "data": {
      "application/vnd.jupyter.widget-view+json": {
       "model_id": "8d9741e8c5c04f699c4ee1b265221f9a",
       "version_major": 2,
       "version_minor": 0
      },
      "text/plain": [
       "Iteration:   0%|          | 0/1633 [00:00<?, ?it/s]"
      ]
     },
     "metadata": {},
     "output_type": "display_data"
    },
    {
     "data": {
      "application/vnd.jupyter.widget-view+json": {
       "model_id": "1e650926f9f4435395f8c0c4194fb51d",
       "version_major": 2,
       "version_minor": 0
      },
      "text/plain": [
       "Iteration:   0%|          | 0/1633 [00:00<?, ?it/s]"
      ]
     },
     "metadata": {},
     "output_type": "display_data"
    }
   ],
   "source": [
    "# Train the model\n",
    "model.fit(train_objectives=[(train_dataloader, train_loss)],\n",
    "          evaluator=evaluator,\n",
    "          epochs=num_epochs,\n",
    "          evaluation_steps=1000,\n",
    "          warmup_steps=warmup_steps,\n",
    "          output_path='./results_minilm_2')"
   ]
  },
  {
   "cell_type": "markdown",
   "metadata": {},
   "source": [
    "#### Inference"
   ]
  },
  {
   "cell_type": "code",
   "execution_count": 8,
   "metadata": {},
   "outputs": [],
   "source": [
    "model_save_path = './results_roberta_base'"
   ]
  },
  {
   "cell_type": "code",
   "execution_count": 9,
   "metadata": {},
   "outputs": [],
   "source": [
    "model = SentenceTransformer(model_save_path)"
   ]
  },
  {
   "cell_type": "code",
   "execution_count": 10,
   "metadata": {},
   "outputs": [],
   "source": [
    "sentences = [\"All the home alones watching 8 mile\", \"8 mile is on thats my movie\"]\n",
    "encodings = model.encode(sentences)"
   ]
  },
  {
   "cell_type": "code",
   "execution_count": 11,
   "metadata": {},
   "outputs": [
    {
     "data": {
      "text/plain": [
       "tensor([[0.2080]])"
      ]
     },
     "execution_count": 11,
     "metadata": {},
     "output_type": "execute_result"
    }
   ],
   "source": [
    "from sentence_transformers import SentenceTransformer, util\n",
    "cosine_scores = util.cos_sim(encodings[0], encodings[1])\n",
    "cosine_scores"
   ]
  },
  {
   "cell_type": "code",
   "execution_count": 12,
   "metadata": {},
   "outputs": [
    {
     "data": {
      "text/plain": [
       "0.20799854397773743"
      ]
     },
     "execution_count": 12,
     "metadata": {},
     "output_type": "execute_result"
    }
   ],
   "source": [
    "cosine_scores.item()"
   ]
  },
  {
   "cell_type": "code",
   "execution_count": 13,
   "metadata": {},
   "outputs": [],
   "source": [
    "test_path = '/workspace/grasp-data-hometask-semantic-similarity-master/data/test.data'"
   ]
  },
  {
   "cell_type": "code",
   "execution_count": 14,
   "metadata": {},
   "outputs": [],
   "source": [
    "results = []\n",
    "with open(test_path) as tf:\n",
    "    for tline in tf:\n",
    "        lines = tline.split('\\t')\n",
    "        sentences = lines[2:4]\n",
    "        encodings = model.encode(sentences)\n",
    "        cosine_scores = util.cos_sim(encodings[0], encodings[1]).item()\n",
    "        \n",
    "        if cosine_scores >= 0.5:\n",
    "            results.append(\"true\\t\" + \"{0:.4f}\".format(cosine_scores) + \"\\n\")\n",
    "        else: #if cosine_scores <= 0.4: \n",
    "            results.append(\"false\\t\" + \"{0:.4f}\".format(cosine_scores) + \"\\n\")\n",
    "        "
   ]
  },
  {
   "cell_type": "code",
   "execution_count": 20,
   "metadata": {},
   "outputs": [],
   "source": [
    "res_path = '/workspace/grasp-data-hometask-semantic-similarity-master/systemoutputs/PIT2015_BASELINE_01_sbert_roberta.output'\n",
    "with open(res_path, 'w+') as f:\n",
    "    for line in results:\n",
    "        f.write(line)"
   ]
  },
  {
   "cell_type": "code",
   "execution_count": null,
   "metadata": {},
   "outputs": [],
   "source": []
  }
 ],
 "metadata": {
  "kernelspec": {
   "display_name": "Python 3 (ipykernel)",
   "language": "python",
   "name": "python3"
  },
  "language_info": {
   "codemirror_mode": {
    "name": "ipython",
    "version": 3
   },
   "file_extension": ".py",
   "mimetype": "text/x-python",
   "name": "python",
   "nbconvert_exporter": "python",
   "pygments_lexer": "ipython3",
   "version": "3.8.10"
  },
  "orig_nbformat": 4
 },
 "nbformat": 4,
 "nbformat_minor": 2
}
